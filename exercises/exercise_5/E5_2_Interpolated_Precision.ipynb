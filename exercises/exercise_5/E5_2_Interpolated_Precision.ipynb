{
  "cells": [
    {
      "cell_type": "markdown",
      "metadata": {
        "id": "gHRsHpe3rAli"
      },
      "source": [
        "# Interpolated Precision"
      ]
    },
    {
      "cell_type": "markdown",
      "metadata": {
        "id": "7tdLt7yRrAlk"
      },
      "source": [
        "In this exercise, you'll have to calculate interpolated precision for generating smooth precision-recall graphs."
      ]
    },
    {
      "cell_type": "code",
      "execution_count": null,
      "metadata": {
        "id": "qIBt-CqbrNXA"
      },
      "outputs": [],
      "source": [
        "%pip install ipytest"
      ]
    },
    {
      "cell_type": "code",
      "execution_count": null,
      "metadata": {
        "id": "3G3GG8PSrAll"
      },
      "outputs": [],
      "source": [
        "import matplotlib.pyplot as plt\n",
        "import numpy as np\n",
        "\n",
        "%matplotlib inline"
      ]
    },
    {
      "cell_type": "markdown",
      "metadata": {
        "id": "yBQOUzCkrAlm"
      },
      "source": [
        "You're given precision and recall values measured at various rank positions (indexed from 0) for a given ranking."
      ]
    },
    {
      "cell_type": "code",
      "execution_count": null,
      "metadata": {
        "id": "Vmu01taErAlm"
      },
      "outputs": [],
      "source": [
        "precision = [1.0, 0.5, 0.67, 0.75, 0.8, 0.83, 0.71, 0.63, 0.56, 0.6]\n",
        "recall = [0.17, 0.17, 0.33, 0.5, 0.67, 0.83, 0.83, 0.83, 0.83, 1.0]"
      ]
    },
    {
      "cell_type": "markdown",
      "metadata": {
        "id": "-FHoQboKrAlm"
      },
      "source": [
        "We can plot these values:"
      ]
    },
    {
      "cell_type": "code",
      "execution_count": null,
      "metadata": {
        "id": "DRuryRcZrAln"
      },
      "outputs": [],
      "source": [
        "plt.plot(recall, precision)\n",
        "plt.ylabel(\"Precision\")\n",
        "plt.xlabel(\"Recall\")\n",
        "plt.show()"
      ]
    },
    {
      "cell_type": "markdown",
      "metadata": {
        "id": "wYxx_fNNrAln"
      },
      "source": [
        "As you can see, this is not exactly a pretty plot.\n",
        "\n",
        "Instead, we'd like to report on standard recall levels R'=(0.0, 0.1, ... 1.0) using interpolated precision values.\n",
        "\n",
        "We calculate interpolated precision at a given recall level using\n",
        "\n",
        "$$P(R) = \\max \\{ P' : R' \\geq R \\wedge (R',P') \\in S \\} ~,$$\n",
        "\n",
        "where S is the set of observed (R,P) points."
      ]
    },
    {
      "cell_type": "code",
      "execution_count": null,
      "metadata": {
        "id": "DADikLghrAlo"
      },
      "outputs": [],
      "source": [
        "recall_levels = np.arange(0, 1.1, 0.1)"
      ]
    },
    {
      "cell_type": "code",
      "execution_count": null,
      "metadata": {
        "id": "BSh0YPYtrAlo"
      },
      "outputs": [],
      "source": [
        "interpolated_precision = []\n",
        "\n",
        "for recall_level in recall_levels:\n",
        "    interpolated_precision.append(\n",
        "        max(\n",
        "            precision\n",
        "            for (recall, precision) in zip(recall, precision)\n",
        "            if recall >= recall_level\n",
        "        )\n",
        "    )"
      ]
    },
    {
      "cell_type": "markdown",
      "metadata": {
        "id": "3IUqA39OrAlp"
      },
      "source": [
        "We can now generate a new plot using standard recall levels and interpolated precision values."
      ]
    },
    {
      "cell_type": "code",
      "execution_count": null,
      "metadata": {
        "id": "uasm4pc3rAlp"
      },
      "outputs": [],
      "source": [
        "plt.plot(recall_levels, interpolated_precision)\n",
        "plt.ylabel(\"Precision\")\n",
        "plt.xlabel(\"Recall\")\n",
        "plt.show()"
      ]
    }
  ],
  "metadata": {
    "colab": {
      "provenance": []
    },
    "kernelspec": {
      "display_name": "Python 3",
      "language": "python",
      "name": "python3"
    },
    "language_info": {
      "codemirror_mode": {
        "name": "ipython",
        "version": 3
      },
      "file_extension": ".py",
      "mimetype": "text/x-python",
      "name": "python",
      "nbconvert_exporter": "python",
      "pygments_lexer": "ipython3",
      "version": "3.11.4"
    }
  },
  "nbformat": 4,
  "nbformat_minor": 0
}
