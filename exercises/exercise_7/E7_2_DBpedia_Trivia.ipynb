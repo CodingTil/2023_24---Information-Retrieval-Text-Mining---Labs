{
  "cells": [
    {
      "cell_type": "markdown",
      "metadata": {
        "id": "udoPaiq-pk_J"
      },
      "source": [
        "# Trivia quiz using DBpedia\n",
        "\n",
        "In this exercise, you'll have to answer some trivia questions with the help of DBpedia.  "
      ]
    },
    {
      "cell_type": "code",
      "execution_count": null,
      "metadata": {
        "id": "1ZPWCJrqpucC"
      },
      "outputs": [],
      "source": [
        "%pip install ipytest"
      ]
    },
    {
      "cell_type": "code",
      "execution_count": null,
      "metadata": {
        "id": "c1t-7ffZpk_K"
      },
      "outputs": [],
      "source": [
        "from typing import Any, Tuple\n",
        "\n",
        "import hashlib\n",
        "import numpy as np\n",
        "import requests\n",
        "import urllib.parse"
      ]
    },
    {
      "cell_type": "markdown",
      "metadata": {
        "id": "xJ9XJpeapk_K"
      },
      "source": [
        "Utility method for fetching all triples associated with a given entity from DBpedia."
      ]
    },
    {
      "cell_type": "code",
      "execution_count": null,
      "metadata": {
        "id": "TTJxG2RMpk_L"
      },
      "outputs": [],
      "source": [
        "def get_triples(entity_id: str) -> Tuple[str, str, Any]:\n",
        "    \"\"\"Returns all triples from DBpedia associated with a given entity.\n",
        "\n",
        "    Args:\n",
        "        entity_id: Unique entity identifier (e.g., \"Kimi_Räikkönen\")\n",
        "\n",
        "    Yields:\n",
        "        (subject, predicate, object) triples where the given entity\n",
        "        stands either as subject or as object.\n",
        "\n",
        "    Raises:\n",
        "        ValueError: If invalid or not the canonical entity ID is provided.\n",
        "    \"\"\"\n",
        "    # Fetch DBpedia entry in JSON format.\n",
        "    # <SPO> triples are represented in the JSON as {S: P: [O1, O2, ...]},\n",
        "    # i.e., multi-valued predicates are grouped together.\n",
        "    data = requests.get(f\"http://dbpedia.org/data/{entity_id}.json\").json()\n",
        "\n",
        "    # Check whether valid entity ID is provided.\n",
        "    entity_uri = f\"http://dbpedia.org/resource/{entity_id}\"\n",
        "    if entity_uri not in data:\n",
        "        raise ValueError(\"Invalid entity ID.\")\n",
        "\n",
        "    # Check whether this is the canonical entity ID.\n",
        "    if \"http://www.w3.org/1999/02/22-rdf-syntax-ns#type\" not in data[entity_uri]:\n",
        "        raise ValueError(\"Not the canonical entity ID.\")\n",
        "\n",
        "    for subj, vals in data.items():\n",
        "        for pred, objs in vals.items():\n",
        "            for obj in objs:\n",
        "                yield subj, pred, obj[\"value\"]"
      ]
    },
    {
      "cell_type": "markdown",
      "metadata": {
        "id": "Bev2hXO9pk_L"
      },
      "source": [
        "## Example\n",
        "\n",
        "Compare with the information at https://dbpedia.org/page/Kimi_R%C3%A4ikk%C3%B6nen."
      ]
    },
    {
      "cell_type": "code",
      "execution_count": null,
      "metadata": {
        "id": "KByd9wcapk_M"
      },
      "outputs": [],
      "source": [
        "triples_kimi = [(s, p, o) for s, p, o in get_triples(\"Kimi_Räikkönen\")]\n",
        "\n",
        "for s, p, o in triples_kimi:\n",
        "    print(s, p, o)"
      ]
    },
    {
      "cell_type": "markdown",
      "metadata": {
        "id": "BcjcuFdupk_M"
      },
      "source": [
        "Types."
      ]
    },
    {
      "cell_type": "code",
      "execution_count": null,
      "metadata": {
        "id": "0d6ZcNS1pk_M"
      },
      "outputs": [],
      "source": [
        "for s, p, o in triples_kimi:\n",
        "    if s != \"http://dbpedia.org/resource/Kimi_Räikkönen\":\n",
        "        continue\n",
        "    if p == \"http://www.w3.org/1999/02/22-rdf-syntax-ns#type\":\n",
        "        print(o)"
      ]
    },
    {
      "cell_type": "markdown",
      "metadata": {
        "id": "GqNyd3UXpk_N"
      },
      "source": [
        "Birth place and date."
      ]
    },
    {
      "cell_type": "code",
      "execution_count": null,
      "metadata": {
        "id": "rwoplN2spk_N"
      },
      "outputs": [],
      "source": [
        "for s, p, o in triples_kimi:\n",
        "    if s != \"http://dbpedia.org/resource/Kimi_Räikkönen\":\n",
        "        continue\n",
        "    if \"birthPlace\" in p or \"birthDate\" in p:\n",
        "        print(o)"
      ]
    },
    {
      "cell_type": "markdown",
      "metadata": {
        "id": "9o23vJhMpk_N"
      },
      "source": [
        "## Quiz questions\n",
        "\n",
        "Answer the questions below.\n",
        "\n",
        "You're allowed to find the exact answers either manually or programmatically, as long as you get the underlying data programmatically using the provided `get_triples()` method.\n",
        "\n",
        "Since tests for this exercise would reveal the correct answer, they are based on MD5 hashes."
      ]
    },
    {
      "cell_type": "markdown",
      "metadata": {
        "id": "NqHlY6NFpk_O"
      },
      "source": [
        "### 1) How many Formula 1 Grand Prixes has Kimi Räikkönen won?"
      ]
    },
    {
      "cell_type": "code",
      "execution_count": null,
      "metadata": {
        "id": "9pcl2S02pk_O"
      },
      "outputs": [],
      "source": [
        "# TODO: Answer is expected as an int.\n",
        "\n",
        "# predicate is dbo:firstDriver, object is Kimi Räikkönen\n",
        "num_wins = 0\n",
        "for s, p, o in triples_kimi:\n",
        "    if o != \"http://dbpedia.org/resource/Kimi_Räikkönen\":\n",
        "        continue\n",
        "    if p != \"http://dbpedia.org/ontology/firstDriver\":\n",
        "        continue\n",
        "    if \"Grand_Prix\" not in s:\n",
        "        continue\n",
        "    num_wins += 1"
      ]
    },
    {
      "cell_type": "code",
      "execution_count": null,
      "metadata": {
        "id": "rqaGScgtpk_O"
      },
      "outputs": [],
      "source": [
        "assert hashlib.md5(np.int8(num_wins)).hexdigest() == \"f5a7e477cd3042b49a9085d62307cd28\""
      ]
    },
    {
      "cell_type": "markdown",
      "metadata": {
        "id": "zuGwiGjapk_O"
      },
      "source": [
        "### 2) Is Kimi Räikkönen married?\n",
        "\n",
        "Return the string \"Y\" or \"N\"."
      ]
    },
    {
      "cell_type": "code",
      "execution_count": null,
      "metadata": {
        "id": "xPMax1yrpk_O"
      },
      "outputs": [],
      "source": [
        "# TODO: Return \"Y\" or \"N\"\n",
        "married = \"N\"\n",
        "for s, p, o in triples_kimi:\n",
        "    if s != \"http://dbpedia.org/resource/Kimi_Räikkönen\":\n",
        "        continue\n",
        "    if p != \"http://dbpedia.org/ontology/spouse\":\n",
        "        continue\n",
        "    married = \"Y\""
      ]
    },
    {
      "cell_type": "code",
      "execution_count": null,
      "metadata": {
        "id": "TU8fxSo5pk_O"
      },
      "outputs": [],
      "source": [
        "assert hashlib.md5(bytes(married, \"utf-8\")).hexdigest() == \"57cec4137b614c87cb4e24a3d003a3e0\""
      ]
    },
    {
      "cell_type": "markdown",
      "metadata": {
        "id": "eVu1qFSqpk_P"
      },
      "source": [
        "### 3) In which country did Kimi win his first Grand Prix?\n",
        "\n",
        "Return the canonical name of the country as a string."
      ]
    },
    {
      "cell_type": "code",
      "execution_count": null,
      "metadata": {
        "id": "dpv2tXGipk_P"
      },
      "outputs": [],
      "source": [
        "# TODO: Return the name of the country\n",
        "from datetime import date\n",
        "\n",
        "country = \"\"\n",
        "\n",
        "wins = []\n",
        "for s, p, o in triples_kimi:\n",
        "    if o != \"http://dbpedia.org/resource/Kimi_Räikkönen\":\n",
        "        continue\n",
        "    if p != \"http://dbpedia.org/ontology/firstDriver\":\n",
        "        continue\n",
        "    if \"Grand_Prix\" not in s:\n",
        "        continue\n",
        "    wins.append(s)\n",
        "\n",
        "print(wins)\n",
        "# remove everything before the last /\n",
        "wins = [w.split(\"/\")[-1] for w in wins]\n",
        "print(wins)\n",
        "least_date: date = None\n",
        "country = \"\"\n",
        "for win in wins:\n",
        "    d: date = None\n",
        "    c: str = None\n",
        "    for s, p, o in get_triples(win):\n",
        "        if p == \"http://dbpedia.org/property/fulldate\":\n",
        "            d = date.fromisoformat(o)\n",
        "        if d == None and p == \"http://dbpedia.org/property/year\":\n",
        "            d = date(int(o), 1, 1)\n",
        "        if p == \"http://dbpedia.org/property/country\":\n",
        "            c = o\n",
        "    if d is not None and (least_date is None or d < least_date):\n",
        "        least_date = d\n",
        "        country = c\n",
        "print(country)\n",
        "print(least_date)"
      ]
    },
    {
      "cell_type": "code",
      "execution_count": null,
      "metadata": {
        "id": "iwtqGIrwpk_P"
      },
      "outputs": [],
      "source": [
        "assert hashlib.md5(bytes(country, \"utf-8\")).hexdigest() == \"3f0e49c46cbde0c7adf5ea04a97ab261\""
      ]
    }
  ],
  "metadata": {
    "colab": {
      "provenance": []
    },
    "kernelspec": {
      "display_name": "Python 3",
      "language": "python",
      "name": "python3"
    },
    "language_info": {
      "codemirror_mode": {
        "name": "ipython",
        "version": 3
      },
      "file_extension": ".py",
      "mimetype": "text/x-python",
      "name": "python",
      "nbconvert_exporter": "python",
      "pygments_lexer": "ipython3",
      "version": "3.11.5"
    }
  },
  "nbformat": 4,
  "nbformat_minor": 0
}
