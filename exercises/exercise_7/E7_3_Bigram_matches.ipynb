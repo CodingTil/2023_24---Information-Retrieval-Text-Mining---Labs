{
  "cells": [
    {
      "cell_type": "markdown",
      "metadata": {
        "id": "N1fRBI93XHmY"
      },
      "source": [
        "# Bigram matches in Elasticsearch\n",
        "\n",
        "This exercise is about getting ordered and unordered bigram matches using Elasticsearch."
      ]
    },
    {
      "cell_type": "code",
      "execution_count": null,
      "metadata": {
        "colab": {
          "base_uri": "https://localhost:8080/"
        },
        "id": "8eghiHVhX_BH",
        "outputId": "d5ffcfd3-ce96-42ef-9b7f-88783f691ecf"
      },
      "outputs": [],
      "source": [
        "%pip install ipytest\n",
        "%pip install elasticsearch==7.15"
      ]
    },
    {
      "cell_type": "code",
      "execution_count": null,
      "metadata": {
        "id": "MdDtrWTZXHmZ"
      },
      "outputs": [],
      "source": [
        "from elasticsearch import Elasticsearch\n",
        "from pprint import pprint\n",
        "\n",
        "import ipytest\n",
        "import pytest\n",
        "\n",
        "ipytest.autoconfig()"
      ]
    },
    {
      "cell_type": "markdown",
      "metadata": {
        "id": "zZoIiatwXHma"
      },
      "source": [
        "## Indexing a toy collection\n",
        "\n",
        "This time, we store **term position information** and perform minimal stemming, i.e., removing only plurals (for that, we specify a custom analyzer).\n",
        "\n",
        "Check the [Elasticsearch documentation on analyzers](https://www.elastic.co/guide/en/elasticsearch/reference/current/analyzer.html)."
      ]
    },
    {
      "cell_type": "code",
      "execution_count": null,
      "metadata": {
        "id": "lFkNePDRXHma"
      },
      "outputs": [],
      "source": [
        "INDEX_NAME = \"toy_index\"\n",
        "\n",
        "INDEX_SETTINGS = {\n",
        "    'settings' : {\n",
        "        'index' : {\n",
        "            \"number_of_shards\" : 1,\n",
        "            \"number_of_replicas\" : 1\n",
        "        },\n",
        "        'analysis': {\n",
        "            'analyzer': {\n",
        "                'my_english_analyzer': {\n",
        "                    'type': \"custom\",\n",
        "                    'tokenizer': \"standard\",\n",
        "                    'stopwords': \"_english_\",\n",
        "                    'filter': [\n",
        "                        \"lowercase\",\n",
        "                        \"english_stop\",\n",
        "                        \"filter_english_minimal\"\n",
        "                    ]\n",
        "                }\n",
        "            },\n",
        "            'filter' : {\n",
        "                'filter_english_minimal' : {\n",
        "                    'type': \"stemmer\",\n",
        "                    'name': \"minimal_english\"\n",
        "                },\n",
        "                'english_stop': {\n",
        "                    'type': \"stop\",\n",
        "                    'stopwords': \"_english_\"\n",
        "                }\n",
        "            },\n",
        "        }\n",
        "    },\n",
        "    'mappings': {\n",
        "        'properties': {\n",
        "            'title': {\n",
        "                'type': \"text\",\n",
        "                'term_vector': \"with_positions\",\n",
        "                'analyzer': \"my_english_analyzer\"\n",
        "            },\n",
        "            'content': {\n",
        "                'type': \"text\",\n",
        "                'term_vector': \"with_positions\",\n",
        "                'analyzer': \"my_english_analyzer\"\n",
        "            }\n",
        "        }\n",
        "    }\n",
        "}"
      ]
    },
    {
      "cell_type": "code",
      "execution_count": null,
      "metadata": {
        "id": "OMzC9fEbXHma"
      },
      "outputs": [],
      "source": [
        "DOCS = {\n",
        "    1: {\"title\": \"Rap God\",\n",
        "        \"content\": \"gonna, gonna, Look, I was gonna go easy on you and not to hurt your feelings\"\n",
        "        },\n",
        "    2: {\"title\": \"Lose Yourself\",\n",
        "        \"content\": \"Yo, if you could just, for one minute Or one split second in time, forget everything Everything that bothers you, or your problems Everything, and follow me\"\n",
        "        },\n",
        "    3: {\"title\": \"Love The Way You Lie\",\n",
        "        \"content\": \"Just gonna stand there and watch me burn But that's alright, because I like the way it hurts\"\n",
        "        },\n",
        "    4: {\"title\": \"The Monster\",\n",
        "        \"content\": [\"gonna gonna I'm friends with the monster\", \"That's under my bed Get along with the voices inside of my head\"]\n",
        "        },\n",
        "    5: {\"title\": \"Beautiful\",\n",
        "        \"content\": \"Lately I've been hard to reach I've been too long on my own Everybody has a private world Where they can be alone\"\n",
        "        },\n",
        "    6: {\"title\": \"Fake Eminem 1\",\n",
        "        \"content\": \"This is not real Eminem, just some text to get more matches for a split second for a split second.\"\n",
        "        },\n",
        "    7: {\"title\": \"Fake Eminem 2\",\n",
        "        \"content\": \"I have a monster friend and I'm friends with the monster and then there are some more friends who are monsters.\"\n",
        "        },\n",
        "}"
      ]
    },
    {
      "cell_type": "code",
      "execution_count": null,
      "metadata": {
        "id": "AX1FSKOvXHmb"
      },
      "outputs": [],
      "source": [
        "ES_NODES = \"http://localhost:9200\"\n",
        "es = Elasticsearch(hosts = [ES_NODES])"
      ]
    },
    {
      "cell_type": "code",
      "execution_count": null,
      "metadata": {
        "id": "p8NMA5G7XHmb"
      },
      "outputs": [],
      "source": [
        "if es.indices.exists(index=INDEX_NAME):\n",
        "    es.indices.delete(index=INDEX_NAME)"
      ]
    },
    {
      "cell_type": "code",
      "execution_count": null,
      "metadata": {
        "colab": {
          "base_uri": "https://localhost:8080/"
        },
        "id": "s58pAixOoPzk",
        "outputId": "b361e0ce-ca1d-4139-9200-e620a5a8cc80"
      },
      "outputs": [],
      "source": [
        "es.indices.create(index=INDEX_NAME, settings=INDEX_SETTINGS[\"settings\"], mappings=INDEX_SETTINGS[\"mappings\"])"
      ]
    },
    {
      "cell_type": "markdown",
      "metadata": {
        "id": "PjonmNSiXHmb"
      },
      "source": [
        "Testing our analyzer."
      ]
    },
    {
      "cell_type": "code",
      "execution_count": null,
      "metadata": {
        "colab": {
          "base_uri": "https://localhost:8080/"
        },
        "id": "_zvpzD8qXHmb",
        "outputId": "5e960b12-6e63-41f4-ce40-7a7d73a4b4bd"
      },
      "outputs": [],
      "source": [
        "es.indices.analyze(index=INDEX_NAME, body={'analyzer': 'my_english_analyzer', 'text': 'monsters in my bed'})"
      ]
    },
    {
      "cell_type": "code",
      "execution_count": null,
      "metadata": {
        "id": "2tPck7vlXHmb"
      },
      "outputs": [],
      "source": [
        "for doc_id, doc in DOCS.items():\n",
        "    es.index(index=INDEX_NAME, id=doc_id, document=doc)"
      ]
    },
    {
      "cell_type": "markdown",
      "metadata": {
        "id": "75ULwlqIXHmb"
      },
      "source": [
        "Notice that you also get term position information when requesting a term vector."
      ]
    },
    {
      "cell_type": "code",
      "execution_count": null,
      "metadata": {
        "colab": {
          "base_uri": "https://localhost:8080/"
        },
        "id": "0WB-DB0HXHmb",
        "outputId": "4c673a6d-047b-404a-959e-b1081efe1039"
      },
      "outputs": [],
      "source": [
        "tv = es.termvectors(index=INDEX_NAME, id=2, fields='title,content')\n",
        "pprint(tv)"
      ]
    },
    {
      "cell_type": "markdown",
      "metadata": {
        "id": "UzIZ2RBkXHmc"
      },
      "source": [
        "## Recovering ordered sequence of terms from inverted index\n",
        "\n",
        "This method returns the sequence of terms for a given document field, with `None` values for stopwords that got removed."
      ]
    },
    {
      "cell_type": "code",
      "execution_count": null,
      "metadata": {
        "id": "oPXGZdUeXHmc"
      },
      "outputs": [],
      "source": [
        "def get_term_sequence(es, doc_id, field):\n",
        "    tv = es.termvectors(index=INDEX_NAME, id=doc_id, fields=[field])\n",
        "\n",
        "    terms = tv[\"term_vectors\"][field][\"terms\"]\n",
        "\n",
        "    total_length = max(token[\"position\"] for term in terms.values() for token in term[\"tokens\"]) + 1\n",
        "\n",
        "    result = [None] * total_length\n",
        "\n",
        "    for term, val in terms.items():\n",
        "        for pos in val[\"tokens\"]:\n",
        "            result[pos[\"position\"]] = term\n",
        "\n",
        "    return result\n"
      ]
    },
    {
      "cell_type": "markdown",
      "metadata": {
        "id": "C1adLnC9XHmc"
      },
      "source": [
        "Tests."
      ]
    },
    {
      "cell_type": "code",
      "execution_count": null,
      "metadata": {
        "colab": {
          "base_uri": "https://localhost:8080/"
        },
        "id": "gfiMQ3_WXHmc",
        "outputId": "c4197fd4-141e-4262-9134-5ce825385bba"
      },
      "outputs": [],
      "source": [
        "%%run_pytest[clean]\n",
        "\n",
        "def test_get_term_sequence():\n",
        "    assert get_term_sequence(es, 4, 'title') == [None, 'monster']\n",
        "    assert get_term_sequence(es, 7, 'content') == ['i', 'have', None, 'monster', 'friend', None, \"i'm\", 'friend', None, None, 'monster', None, None, None, None, 'some', 'more', 'friend', 'who', None, 'monster']"
      ]
    },
    {
      "cell_type": "markdown",
      "metadata": {
        "id": "FPxCRgZCXHmc"
      },
      "source": [
        "## Getting ordered bigram matches\n",
        "\n",
        "Use the `get_term_sequence()` method to get the document field's content as a sequence of terms, then check for ordered bigram matches yourself."
      ]
    },
    {
      "cell_type": "code",
      "execution_count": null,
      "metadata": {
        "id": "QL_p7yM8XHmc"
      },
      "outputs": [],
      "source": [
        "def count_ordered_bigram_matches(es, doc_id, field, bigram):\n",
        "    \"\"\"Counts the number of ordered bigram matches in a given document field.\n",
        "\n",
        "    Args:\n",
        "        es: Elasticsearch instance\n",
        "        doc_id: Document ID\n",
        "        field: Document field\n",
        "        bigram: A sequence of two terms given as a list\n",
        "\n",
        "    Returns:\n",
        "        Number of times the bigram can be found in this exact order.\n",
        "    \"\"\"\n",
        "    count = 0\n",
        "\n",
        "    term_sequence = get_term_sequence(es, doc_id, field)\n",
        "\n",
        "    for i in range(0, len(term_sequence) - 1):\n",
        "        if bigram[0] == term_sequence[i] and bigram[1] == term_sequence[i + 1]:\n",
        "            count += 1\n",
        "\n",
        "    return count"
      ]
    },
    {
      "cell_type": "markdown",
      "metadata": {
        "id": "iQ82zG50XHmd"
      },
      "source": [
        "Tests."
      ]
    },
    {
      "cell_type": "code",
      "execution_count": null,
      "metadata": {
        "colab": {
          "base_uri": "https://localhost:8080/"
        },
        "id": "DZ3n1EGnXHmd",
        "outputId": "bbccca43-7e2b-4f91-cfa8-7b0b2a308bec"
      },
      "outputs": [],
      "source": [
        "%%run_pytest[clean]\n",
        "\n",
        "@pytest.mark.parametrize('doc_id, field, bigram, correct_value', [\n",
        "    (6, 'content', ['split', 'second'], 2),\n",
        "    (2, 'content', ['split', 'second'], 1),\n",
        "    (1, 'content', ['split', 'second'], 0),\n",
        "])\n",
        "def test_count_ordered_bigram_matches(doc_id, field, bigram, correct_value):\n",
        "    assert count_ordered_bigram_matches(es, doc_id, field, bigram) == correct_value"
      ]
    },
    {
      "cell_type": "markdown",
      "metadata": {
        "id": "TMXy2wjVXHmd"
      },
      "source": [
        "## Getting unordered bigram matches\n",
        "\n",
        "As before, use the `get_term_sequence()` method to get the document field's content as a sequence of terms, then check for ordered bigram matches yourself."
      ]
    },
    {
      "cell_type": "code",
      "execution_count": null,
      "metadata": {
        "id": "vTlSYxnSXHmd"
      },
      "outputs": [],
      "source": [
        "def count_unordered_bigram_matches(es, doc_id, field, bigram, w=4):\n",
        "    \"\"\"Counts the number of unordered bigram matches in a given document field.\n",
        "\n",
        "    Args:\n",
        "        es: Elasticsearch instance\n",
        "        doc_id: Document ID\n",
        "        field: Document field\n",
        "        bigram: A sequence of two terms given as a list\n",
        "        w: The maximum distance between the two query terms that still counts as a match\n",
        "\n",
        "    Returns:\n",
        "        Number of times the bigram can be found within a distance of w from each other in any order.\n",
        "    \"\"\"\n",
        "    count = 0\n",
        "\n",
        "    term_sequence = get_term_sequence(es, doc_id, field)\n",
        "    for i in range(0, max(1, len(term_sequence) - (w - 1))):\n",
        "        sub_sequence = term_sequence[i : min(i + w, len(term_sequence))]\n",
        "        if any(b == sub_sequence[0] for b in bigram):\n",
        "            if all(b in sub_sequence for b in bigram):\n",
        "                count += 1\n",
        "\n",
        "    return count"
      ]
    },
    {
      "cell_type": "markdown",
      "metadata": {
        "id": "R3xvSOzJXHmd"
      },
      "source": [
        "Tests."
      ]
    },
    {
      "cell_type": "code",
      "execution_count": null,
      "metadata": {
        "colab": {
          "base_uri": "https://localhost:8080/"
        },
        "id": "lP_0fn8jXHmd",
        "outputId": "d498b324-2796-489d-d38d-3d0290f215ec"
      },
      "outputs": [],
      "source": [
        "%%run_pytest[clean]\n",
        "\n",
        "@pytest.mark.parametrize('doc_id, field, bigram, correct_value', [\n",
        "    (7, 'content', ['friend', 'monster'], 3),\n",
        "    (4, 'content', ['friend', 'monster'], 1),\n",
        "    (1, 'content', ['friend', 'monster'], 0),\n",
        "])\n",
        "def test_count_ordered_bigram_matches(doc_id, field, bigram, correct_value):\n",
        "    assert count_unordered_bigram_matches(es, doc_id, field, bigram) == correct_value"
      ]
    }
  ],
  "metadata": {
    "colab": {
      "provenance": []
    },
    "kernelspec": {
      "display_name": "Python 3",
      "language": "python",
      "name": "python3"
    },
    "language_info": {
      "codemirror_mode": {
        "name": "ipython",
        "version": 3
      },
      "file_extension": ".py",
      "mimetype": "text/x-python",
      "name": "python",
      "nbconvert_exporter": "python",
      "pygments_lexer": "ipython3",
      "version": "3.11.5"
    }
  },
  "nbformat": 4,
  "nbformat_minor": 0
}
