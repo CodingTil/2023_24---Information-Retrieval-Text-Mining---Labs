{
  "cells": [
    {
      "cell_type": "markdown",
      "metadata": {
        "id": "NjQ2Z6T7rhpE"
      },
      "source": [
        "# Elasticsearch"
      ]
    },
    {
      "cell_type": "markdown",
      "metadata": {
        "id": "AzXIOfu1rhpF"
      },
      "source": [
        "In this exercise, you'll first build an Elasticsearch index of a toy document collection, then request various term statistics from that index.\n",
        "\n",
        "Remember to make sure that the Elasticsearch service is running (i.e., has been started in a terminal window).\n",
        "\n",
        "See [this document](Elasticsearch.md) for help on Elasticsearch usage."
      ]
    },
    {
      "cell_type": "code",
      "execution_count": 43,
      "metadata": {
        "id": "tKM5DuCDrvrj"
      },
      "outputs": [
        {
          "name": "stdout",
          "output_type": "stream",
          "text": [
            "Requirement already satisfied: ipytest in /Users/tilmohr/micromamba/envs/irtm/lib/python3.11/site-packages (0.13.3)\n",
            "Requirement already satisfied: ipython in /Users/tilmohr/micromamba/envs/irtm/lib/python3.11/site-packages (from ipytest) (8.15.0)\n",
            "Requirement already satisfied: packaging in /Users/tilmohr/micromamba/envs/irtm/lib/python3.11/site-packages (from ipytest) (23.2)\n",
            "Requirement already satisfied: pytest>=5.4 in /Users/tilmohr/micromamba/envs/irtm/lib/python3.11/site-packages (from ipytest) (7.4.2)\n",
            "Requirement already satisfied: iniconfig in /Users/tilmohr/micromamba/envs/irtm/lib/python3.11/site-packages (from pytest>=5.4->ipytest) (2.0.0)\n",
            "Requirement already satisfied: pluggy<2.0,>=0.12 in /Users/tilmohr/micromamba/envs/irtm/lib/python3.11/site-packages (from pytest>=5.4->ipytest) (1.3.0)\n",
            "Requirement already satisfied: backcall in /Users/tilmohr/micromamba/envs/irtm/lib/python3.11/site-packages (from ipython->ipytest) (0.2.0)\n",
            "Requirement already satisfied: decorator in /Users/tilmohr/micromamba/envs/irtm/lib/python3.11/site-packages (from ipython->ipytest) (5.1.1)\n",
            "Requirement already satisfied: jedi>=0.16 in /Users/tilmohr/micromamba/envs/irtm/lib/python3.11/site-packages (from ipython->ipytest) (0.19.0)\n",
            "Requirement already satisfied: matplotlib-inline in /Users/tilmohr/micromamba/envs/irtm/lib/python3.11/site-packages (from ipython->ipytest) (0.1.6)\n",
            "Requirement already satisfied: pickleshare in /Users/tilmohr/micromamba/envs/irtm/lib/python3.11/site-packages (from ipython->ipytest) (0.7.5)\n",
            "Requirement already satisfied: prompt-toolkit!=3.0.37,<3.1.0,>=3.0.30 in /Users/tilmohr/micromamba/envs/irtm/lib/python3.11/site-packages (from ipython->ipytest) (3.0.39)\n",
            "Requirement already satisfied: pygments>=2.4.0 in /Users/tilmohr/micromamba/envs/irtm/lib/python3.11/site-packages (from ipython->ipytest) (2.16.1)\n",
            "Requirement already satisfied: stack-data in /Users/tilmohr/micromamba/envs/irtm/lib/python3.11/site-packages (from ipython->ipytest) (0.6.2)\n",
            "Requirement already satisfied: traitlets>=5 in /Users/tilmohr/micromamba/envs/irtm/lib/python3.11/site-packages (from ipython->ipytest) (5.10.0)\n",
            "Requirement already satisfied: pexpect>4.3 in /Users/tilmohr/micromamba/envs/irtm/lib/python3.11/site-packages (from ipython->ipytest) (4.8.0)\n",
            "Requirement already satisfied: appnope in /Users/tilmohr/micromamba/envs/irtm/lib/python3.11/site-packages (from ipython->ipytest) (0.1.3)\n",
            "Requirement already satisfied: parso<0.9.0,>=0.8.3 in /Users/tilmohr/micromamba/envs/irtm/lib/python3.11/site-packages (from jedi>=0.16->ipython->ipytest) (0.8.3)\n",
            "Requirement already satisfied: ptyprocess>=0.5 in /Users/tilmohr/micromamba/envs/irtm/lib/python3.11/site-packages (from pexpect>4.3->ipython->ipytest) (0.7.0)\n",
            "Requirement already satisfied: wcwidth in /Users/tilmohr/micromamba/envs/irtm/lib/python3.11/site-packages (from prompt-toolkit!=3.0.37,<3.1.0,>=3.0.30->ipython->ipytest) (0.2.6)\n",
            "Requirement already satisfied: executing>=1.2.0 in /Users/tilmohr/micromamba/envs/irtm/lib/python3.11/site-packages (from stack-data->ipython->ipytest) (1.2.0)\n",
            "Requirement already satisfied: asttokens>=2.1.0 in /Users/tilmohr/micromamba/envs/irtm/lib/python3.11/site-packages (from stack-data->ipython->ipytest) (2.4.0)\n",
            "Requirement already satisfied: pure-eval in /Users/tilmohr/micromamba/envs/irtm/lib/python3.11/site-packages (from stack-data->ipython->ipytest) (0.2.2)\n",
            "Requirement already satisfied: six>=1.12.0 in /Users/tilmohr/micromamba/envs/irtm/lib/python3.11/site-packages (from asttokens>=2.1.0->stack-data->ipython->ipytest) (1.16.0)\n",
            "Note: you may need to restart the kernel to use updated packages.\n",
            "Requirement already satisfied: elasticsearch==7.15 in /Users/tilmohr/micromamba/envs/irtm/lib/python3.11/site-packages (7.15.0)\n",
            "Requirement already satisfied: urllib3<2,>=1.21.1 in /Users/tilmohr/micromamba/envs/irtm/lib/python3.11/site-packages (from elasticsearch==7.15) (1.26.17)\n",
            "Requirement already satisfied: certifi in /Users/tilmohr/micromamba/envs/irtm/lib/python3.11/site-packages (from elasticsearch==7.15) (2023.7.22)\n",
            "Note: you may need to restart the kernel to use updated packages.\n"
          ]
        }
      ],
      "source": [
        "%pip install ipytest\n",
        "%pip install elasticsearch==7.15"
      ]
    },
    {
      "cell_type": "code",
      "execution_count": 44,
      "metadata": {
        "id": "ri-oeCIMrhpF"
      },
      "outputs": [],
      "source": [
        "from elasticsearch import Elasticsearch\n",
        "from typing import Dict, List, Optional\n",
        "\n",
        "import ipytest\n",
        "import pytest\n",
        "\n",
        "ipytest.autoconfig()"
      ]
    },
    {
      "cell_type": "markdown",
      "metadata": {
        "id": "gaaY3tArrhpG"
      },
      "source": [
        "This is to check that the Elasticsearch service is running on your machine."
      ]
    },
    {
      "cell_type": "code",
      "execution_count": 45,
      "metadata": {
        "id": "oc7m47NLrhpG"
      },
      "outputs": [],
      "source": [
        "es = Elasticsearch()"
      ]
    },
    {
      "cell_type": "markdown",
      "metadata": {
        "id": "wgvnAB4qrhpG"
      },
      "source": [
        "## Indexing"
      ]
    },
    {
      "cell_type": "markdown",
      "metadata": {
        "id": "9VW5plmirhpH"
      },
      "source": [
        "We use a toy data collection with 5 documents, each with title and content fields."
      ]
    },
    {
      "cell_type": "code",
      "execution_count": 46,
      "metadata": {
        "id": "yVdSF66LrhpH"
      },
      "outputs": [],
      "source": [
        "DOCS = [\n",
        "    {\"doc_id\": \"D1\",\n",
        "     \"title\": \"First document\",\n",
        "     \"content\": \"House on the hill\"\n",
        "    },\n",
        "    {\"doc_id\": \"D2\",\n",
        "     \"title\": \"Second title\",\n",
        "     \"content\": \"Downtown Stavanger is beautiful\"\n",
        "    },\n",
        "    {\"doc_id\": \"D3\",\n",
        "     \"title\": \"First, second, and third\",\n",
        "     \"content\": \"Never step on snakes\"\n",
        "    },\n",
        "    {\"doc_id\": \"D4\",\n",
        "     \"title\": \"Document number four\",\n",
        "     \"content\": \"House, house. It's a beautiful house you have\"\n",
        "    },\n",
        "    {\"doc_id\": \"D5\",\n",
        "     \"title\": \"This document is the last document\",\n",
        "     \"content\": \"There can be only one matching result\"\n",
        "    }\n",
        "]"
      ]
    },
    {
      "cell_type": "code",
      "execution_count": 47,
      "metadata": {
        "id": "ER2FcTewrhpI"
      },
      "outputs": [],
      "source": [
        "INDEX_SETTINGS = {  # single shard with a single replica\n",
        "    \"settings\" : {\n",
        "        \"index\" : {\n",
        "            \"number_of_shards\" : 1,\n",
        "            \"number_of_replicas\" : 1\n",
        "        }\n",
        "    }\n",
        "}"
      ]
    },
    {
      "cell_type": "code",
      "execution_count": 48,
      "metadata": {
        "id": "QGBlWtAnrhpI"
      },
      "outputs": [],
      "source": [
        "INDEX_NAME = \"test_e6-3\""
      ]
    },
    {
      "cell_type": "code",
      "execution_count": 49,
      "metadata": {
        "id": "nmYgy1xCrhpI"
      },
      "outputs": [
        {
          "name": "stderr",
          "output_type": "stream",
          "text": [
            "/Users/tilmohr/micromamba/envs/irtm/lib/python3.11/site-packages/elasticsearch/connection/base.py:209: ElasticsearchWarning: Elasticsearch built-in security features are not enabled. Without authentication, your cluster could be accessible to anyone. See https://www.elastic.co/guide/en/elasticsearch/reference/7.15/security-minimal-setup.html to enable security.\n",
            "  warnings.warn(message, category=ElasticsearchWarning)\n"
          ]
        },
        {
          "data": {
            "text/plain": [
              "{'acknowledged': True, 'shards_acknowledged': True, 'index': 'test_e6-3'}"
            ]
          },
          "execution_count": 49,
          "metadata": {},
          "output_type": "execute_result"
        }
      ],
      "source": [
        "if es.indices.exists(index=INDEX_NAME):\n",
        "    es.indices.delete(index=INDEX_NAME)\n",
        "es.indices.create(index=INDEX_NAME, settings=INDEX_SETTINGS[\"settings\"])"
      ]
    },
    {
      "cell_type": "markdown",
      "metadata": {
        "id": "j3vWlp87rhpJ"
      },
      "source": [
        "Add documents in `DOC` to the index."
      ]
    },
    {
      "cell_type": "code",
      "execution_count": 50,
      "metadata": {
        "id": "ruSc-NlarhpJ"
      },
      "outputs": [],
      "source": [
        "for doc in DOCS:\n",
        "    es.index(index=INDEX_NAME, doc_type=\"_doc\", id=doc[\"doc_id\"],\n",
        "             document={\"title\": doc[\"title\"], \"content\": doc[\"content\"]})"
      ]
    },
    {
      "cell_type": "markdown",
      "metadata": {
        "id": "dv7oxIdvrhpJ"
      },
      "source": [
        "## Term statistics"
      ]
    },
    {
      "cell_type": "markdown",
      "metadata": {
        "id": "50xQChnqrhpJ"
      },
      "source": [
        "Complete the methods below for getting various term statistics from the index.\n",
        "\n",
        "Consult [this notebook](2-Elasticsearch.ipynb) for the interpretation of term vector statistics."
      ]
    },
    {
      "cell_type": "code",
      "execution_count": 51,
      "metadata": {
        "id": "9fnFQtmbrhpJ"
      },
      "outputs": [],
      "source": [
        "def get_doc_term_freqs(index_name: str, doc_id: str, field: str) -> Dict[str, int]:\n",
        "    \"\"\"Returns the terms along with their frequencies contained in a given document.\n",
        "\n",
        "    Args:\n",
        "        index_name: Name of index.\n",
        "        doc_id: Document ID.\n",
        "        field: Field name.\n",
        "\n",
        "    Returns:\n",
        "        Dict with terms as keys and corresponding frequencies (i.e.,\n",
        "        number of occurrences within the given document field) as values.\n",
        "    \"\"\"\n",
        "    tv = es.termvectors(index=index_name, doc_type=\"_doc\", id=doc_id, fields=field, term_statistics=True)\n",
        "    if tv[\"_id\"] != doc_id:\n",
        "        return None\n",
        "    if field not in tv[\"term_vectors\"]:\n",
        "        return None\n",
        "    term_freqs = {}\n",
        "    for term, term_stat in tv[\"term_vectors\"][field][\"terms\"].items():\n",
        "        term_freqs[term] = term_stat[\"term_freq\"]\n",
        "    return term_freqs"
      ]
    },
    {
      "cell_type": "code",
      "execution_count": 52,
      "metadata": {
        "id": "H_ufllIHrhpK"
      },
      "outputs": [],
      "source": [
        "def get_doc_field_len(index_name: str, doc_id: str, field: str) -> int:\n",
        "    \"\"\"Returns the length of a given document field.\n",
        "\n",
        "    Length is defined as the total number of terms contained in that field.\n",
        "\n",
        "    Args:\n",
        "        index_name: Name of index.\n",
        "        doc_id: Document ID.\n",
        "        field: Field name.\n",
        "\n",
        "    Returns:\n",
        "        Field length.\n",
        "    \"\"\"\n",
        "    term_freqs = get_doc_term_freqs(index_name, doc_id, field)\n",
        "    if term_freqs is not None:\n",
        "        return sum(term_freqs.values())\n",
        "    return None"
      ]
    },
    {
      "cell_type": "code",
      "execution_count": 53,
      "metadata": {
        "id": "MFpmCM9krhpK"
      },
      "outputs": [],
      "source": [
        "def get_doc_containing_term(index_name: str, field: str, term: str) -> Optional[str]:\n",
        "    \"\"\"Returns any document ID that contains term in a given field or None.\n",
        "\n",
        "    Args:\n",
        "        index_name: Name of index.\n",
        "        field: Field name.\n",
        "        term: Term.\n",
        "\n",
        "    Returns:\n",
        "        ID of a document that contains `term` or None.\n",
        "    \"\"\"\n",
        "    # Use a boolean query to find a document that contains the term.\n",
        "    hits = es.search(index=index_name, query={\"match\": {field: term}}).get(\"hits\", {}).get(\"hits\", {})\n",
        "    return hits[0][\"_id\"] if len(hits) > 0 else None"
      ]
    },
    {
      "cell_type": "code",
      "execution_count": 54,
      "metadata": {
        "id": "ofzqbRROrhpL"
      },
      "outputs": [],
      "source": [
        "def get_term_doc_count(index_name: str, field: str, term: str) -> int:\n",
        "    \"\"\"Returns the total number of documents that contain a given term within a specific field.\n",
        "\n",
        "    Args:\n",
        "        index_name: Name of index.\n",
        "        field: Field name.\n",
        "        term: Term.\n",
        "\n",
        "    Returns:\n",
        "        Number of documents that contain the given term within `field`.\n",
        "    \"\"\"\n",
        "    # Find a document that contains the term.\n",
        "    doc_id = get_doc_containing_term(index_name, field, term)\n",
        "    if doc_id is None:\n",
        "        return 0\n",
        "    # Request term statistics for that document and extract the\n",
        "    # requested information from there.\n",
        "    tv = es.termvectors(index=index_name, doc_type=\"_doc\", id=doc_id, fields=field, term_statistics=True)\n",
        "    return tv[\"term_vectors\"][field][\"terms\"][term][\"doc_freq\"]"
      ]
    },
    {
      "cell_type": "code",
      "execution_count": 55,
      "metadata": {
        "id": "nD9xpGS7rhpL"
      },
      "outputs": [],
      "source": [
        "def get_term_coll_freq(index_name: str, field: str, term: str) -> int:\n",
        "    \"\"\"Returns the total collection term frequency of a term in a given field.\n",
        "\n",
        "    Args:\n",
        "        index_name: Name of index.\n",
        "        field: Field name.\n",
        "        term: Term.\n",
        "\n",
        "    Returns:\n",
        "        Total number of occurrences of `term` in all documents within `field`.\n",
        "    \"\"\"\n",
        "    # Find a document that contains the term.\n",
        "    doc_id = get_doc_containing_term(index_name, field, term)\n",
        "    if doc_id is None:\n",
        "        return 0\n",
        "    # Request term statistics for that document and extract the\n",
        "    # requested information from there.\n",
        "    tv = es.termvectors(index=index_name, doc_type=\"_doc\", id=doc_id, fields=field, term_statistics=True)\n",
        "    return tv[\"term_vectors\"][field][\"terms\"][term][\"ttf\"]"
      ]
    },
    {
      "cell_type": "markdown",
      "metadata": {
        "id": "xO4Kqu3irhpL"
      },
      "source": [
        "Tests."
      ]
    },
    {
      "cell_type": "code",
      "execution_count": 56,
      "metadata": {
        "id": "o1ATpy6lrhpL"
      },
      "outputs": [
        {
          "name": "stdout",
          "output_type": "stream",
          "text": [
            "\u001b[32m.\u001b[0m\u001b[32m.\u001b[0m"
          ]
        },
        {
          "name": "stdout",
          "output_type": "stream",
          "text": [
            "\u001b[31mF\u001b[0m\u001b[31mF\u001b[0m\u001b[31mF\u001b[0m\u001b[31m                                                                                        [100%]\u001b[0m\n",
            "============================================= FAILURES =============================================\n",
            "\u001b[31m\u001b[1m_____________________________________ test_doc_containing_term _____________________________________\u001b[0m\n",
            "\n",
            "    \u001b[94mdef\u001b[39;49;00m \u001b[92mtest_doc_containing_term\u001b[39;49;00m():\u001b[90m\u001b[39;49;00m\n",
            ">       \u001b[94massert\u001b[39;49;00m get_doc_containing_term(INDEX_NAME, \u001b[33m\"\u001b[39;49;00m\u001b[33mtitle\u001b[39;49;00m\u001b[33m\"\u001b[39;49;00m, \u001b[33m\"\u001b[39;49;00m\u001b[33mdocument\u001b[39;49;00m\u001b[33m\"\u001b[39;49;00m) \u001b[95min\u001b[39;49;00m [\u001b[33m\"\u001b[39;49;00m\u001b[33mD1\u001b[39;49;00m\u001b[33m\"\u001b[39;49;00m, \u001b[33m\"\u001b[39;49;00m\u001b[33mD4\u001b[39;49;00m\u001b[33m\"\u001b[39;49;00m, \u001b[33m\"\u001b[39;49;00m\u001b[33mD5\u001b[39;49;00m\u001b[33m\"\u001b[39;49;00m]\u001b[90m\u001b[39;49;00m\n",
            "\u001b[1m\u001b[31mE       AssertionError: assert None in ['D1', 'D4', 'D5']\u001b[0m\n",
            "\u001b[1m\u001b[31mE        +  where None = get_doc_containing_term('test_e6-3', 'title', 'document')\u001b[0m\n",
            "\n",
            "\u001b[1m\u001b[31m/var/folders/bw/ll3q57bd36n7bgtnfj73wsr80000gn/T/ipykernel_8779/3276138731.py\u001b[0m:10: AssertionError\n",
            "\u001b[31m\u001b[1m_______________________________________ test_term_doc_count ________________________________________\u001b[0m\n",
            "\n",
            "    \u001b[94mdef\u001b[39;49;00m \u001b[92mtest_term_doc_count\u001b[39;49;00m():\u001b[90m\u001b[39;49;00m\n",
            ">       \u001b[94massert\u001b[39;49;00m get_term_doc_count(INDEX_NAME, \u001b[33m\"\u001b[39;49;00m\u001b[33mtitle\u001b[39;49;00m\u001b[33m\"\u001b[39;49;00m, \u001b[33m\"\u001b[39;49;00m\u001b[33mdocument\u001b[39;49;00m\u001b[33m\"\u001b[39;49;00m) == \u001b[94m3\u001b[39;49;00m\u001b[90m\u001b[39;49;00m\n",
            "\u001b[1m\u001b[31mE       AssertionError: assert 0 == 3\u001b[0m\n",
            "\u001b[1m\u001b[31mE        +  where 0 = get_term_doc_count('test_e6-3', 'title', 'document')\u001b[0m\n",
            "\n",
            "\u001b[1m\u001b[31m/var/folders/bw/ll3q57bd36n7bgtnfj73wsr80000gn/T/ipykernel_8779/3276138731.py\u001b[0m:14: AssertionError\n",
            "\u001b[31m\u001b[1m_______________________________________ test_term_coll_freq ________________________________________\u001b[0m\n",
            "\n",
            "    \u001b[94mdef\u001b[39;49;00m \u001b[92mtest_term_coll_freq\u001b[39;49;00m():\u001b[90m\u001b[39;49;00m\n",
            ">       \u001b[94massert\u001b[39;49;00m get_term_coll_freq(INDEX_NAME, \u001b[33m\"\u001b[39;49;00m\u001b[33mtitle\u001b[39;49;00m\u001b[33m\"\u001b[39;49;00m, \u001b[33m\"\u001b[39;49;00m\u001b[33mthis\u001b[39;49;00m\u001b[33m\"\u001b[39;49;00m) == \u001b[94m1\u001b[39;49;00m\u001b[90m\u001b[39;49;00m\n",
            "\u001b[1m\u001b[31mE       AssertionError: assert 0 == 1\u001b[0m\n",
            "\u001b[1m\u001b[31mE        +  where 0 = get_term_coll_freq('test_e6-3', 'title', 'this')\u001b[0m\n",
            "\n",
            "\u001b[1m\u001b[31m/var/folders/bw/ll3q57bd36n7bgtnfj73wsr80000gn/T/ipykernel_8779/3276138731.py\u001b[0m:18: AssertionError\n",
            "\u001b[33m========================================= warnings summary =========================================\u001b[0m\n",
            "t_0853094ca19647f6ba72036778e64c64.py::test_doc_term_freqs\n",
            "t_0853094ca19647f6ba72036778e64c64.py::test_doc_field_len\n",
            "t_0853094ca19647f6ba72036778e64c64.py::test_doc_containing_term\n",
            "t_0853094ca19647f6ba72036778e64c64.py::test_term_doc_count\n",
            "t_0853094ca19647f6ba72036778e64c64.py::test_term_coll_freq\n",
            "  /Users/tilmohr/micromamba/envs/irtm/lib/python3.11/site-packages/elasticsearch/connection/base.py:209: ElasticsearchWarning: Elasticsearch built-in security features are not enabled. Without authentication, your cluster could be accessible to anyone. See https://www.elastic.co/guide/en/elasticsearch/reference/7.15/security-minimal-setup.html to enable security.\n",
            "    warnings.warn(message, category=ElasticsearchWarning)\n",
            "\n",
            "t_0853094ca19647f6ba72036778e64c64.py::test_doc_term_freqs\n",
            "t_0853094ca19647f6ba72036778e64c64.py::test_doc_field_len\n",
            "  /Users/tilmohr/micromamba/envs/irtm/lib/python3.11/site-packages/elasticsearch/connection/base.py:209: ElasticsearchWarning: [types removal] Specifying types in term vector requests is deprecated.\n",
            "    warnings.warn(message, category=ElasticsearchWarning)\n",
            "\n",
            "t_0853094ca19647f6ba72036778e64c64.py::test_doc_containing_term\n",
            "t_0853094ca19647f6ba72036778e64c64.py::test_term_doc_count\n",
            "t_0853094ca19647f6ba72036778e64c64.py::test_term_coll_freq\n",
            "  /var/folders/bw/ll3q57bd36n7bgtnfj73wsr80000gn/T/ipykernel_8779/3444970122.py:13: DeprecationWarning: The 'body' parameter is deprecated for the 'search' API and will be removed in 8.0.0. Instead use API parameters directly. See https://github.com/elastic/elasticsearch-py/issues/1698 for more information\n",
            "    hits = es.search(index=index_name, body={\"query\": {\"match\": {field: term}}})[\"hits\"][\"hits\"]\n",
            "\n",
            "-- Docs: https://docs.pytest.org/en/stable/how-to/capture-warnings.html\n",
            "\u001b[36m\u001b[1m===================================== short test summary info ======================================\u001b[0m\n",
            "\u001b[31mFAILED\u001b[0m t_0853094ca19647f6ba72036778e64c64.py::\u001b[1mtest_doc_containing_term\u001b[0m - AssertionError: assert None in ['D1', 'D4', 'D5']\n",
            "\u001b[31mFAILED\u001b[0m t_0853094ca19647f6ba72036778e64c64.py::\u001b[1mtest_term_doc_count\u001b[0m - AssertionError: assert 0 == 3\n",
            "\u001b[31mFAILED\u001b[0m t_0853094ca19647f6ba72036778e64c64.py::\u001b[1mtest_term_coll_freq\u001b[0m - AssertionError: assert 0 == 1\n",
            "\u001b[31m\u001b[31m\u001b[1m3 failed\u001b[0m, \u001b[32m2 passed\u001b[0m, \u001b[33m10 warnings\u001b[0m\u001b[31m in 0.05s\u001b[0m\u001b[0m\n"
          ]
        }
      ],
      "source": [
        "%%ipytest\n",
        "\n",
        "def test_doc_term_freqs():\n",
        "    assert get_doc_term_freqs(INDEX_NAME, \"D2\", \"title\") == {\"second\": 1, \"title\": 1}\n",
        "    assert get_doc_term_freqs(INDEX_NAME, \"D4\", \"content\") == {\"a\": 1, \"beautiful\": 1, \"have\": 1,\n",
        "                                                               \"house\": 3, \"it's\": 1, \"you\": 1}\n",
        "def test_doc_field_len():\n",
        "    assert get_doc_field_len(INDEX_NAME, \"D2\", \"title\") == 2\n",
        "    assert get_doc_field_len(INDEX_NAME, \"D4\", \"content\") == 8\n",
        "\n",
        "def test_doc_containing_term():\n",
        "    assert get_doc_containing_term(INDEX_NAME, \"title\", \"document\") in [\"D1\", \"D4\", \"D5\"]\n",
        "    assert get_doc_containing_term(INDEX_NAME, \"content\", \"house\") in [\"D1\", \"D4\"]\n",
        "\n",
        "def test_term_doc_count():\n",
        "    assert get_term_doc_count(INDEX_NAME, \"title\", \"document\") == 3\n",
        "    assert get_term_doc_count(INDEX_NAME, \"content\", \"house\") == 2\n",
        "\n",
        "def test_term_coll_freq():\n",
        "    assert get_term_coll_freq(INDEX_NAME, \"title\", \"this\") == 1\n",
        "    assert get_term_coll_freq(INDEX_NAME, \"title\", \"document\") == 4\n",
        "    assert get_term_coll_freq(INDEX_NAME, \"content\", \"house\") == 4"
      ]
    }
  ],
  "metadata": {
    "colab": {
      "provenance": []
    },
    "kernelspec": {
      "display_name": "Python 3",
      "language": "python",
      "name": "python3"
    },
    "language_info": {
      "codemirror_mode": {
        "name": "ipython",
        "version": 3
      },
      "file_extension": ".py",
      "mimetype": "text/x-python",
      "name": "python",
      "nbconvert_exporter": "python",
      "pygments_lexer": "ipython3",
      "version": "3.11.5"
    }
  },
  "nbformat": 4,
  "nbformat_minor": 0
}
