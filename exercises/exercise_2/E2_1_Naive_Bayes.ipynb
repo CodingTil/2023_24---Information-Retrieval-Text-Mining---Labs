{
  "cells": [
    {
      "cell_type": "markdown",
      "metadata": {
        "id": "ZnG-X2uQoEhS"
      },
      "source": [
        "# Naive Bayes text classifier\n",
        "\n",
        "In this exercise, you'll implement a Naive Bayes classifier for text from scratch."
      ]
    },
    {
      "cell_type": "code",
      "execution_count": null,
      "metadata": {
        "id": "O5Am68ymoKqi"
      },
      "outputs": [],
      "source": [
        "%pip install ipytest"
      ]
    },
    {
      "cell_type": "code",
      "execution_count": null,
      "metadata": {
        "id": "kFFcJwmnoEhS"
      },
      "outputs": [],
      "source": [
        "import ipytest\n",
        "from typing import List\n",
        "\n",
        "ipytest.autoconfig()"
      ]
    },
    {
      "cell_type": "markdown",
      "metadata": {
        "id": "pM9LUCW4oEhT"
      },
      "source": [
        "### Training the model\n",
        "\n",
        "  - Calculate $P(y)$ for each class label in the training data\n",
        "  - Calculate $P(x_i|y)$ for each feature (term) for each class label in the training data using Laplace (add-one) smoothing\n",
        "  \n",
        "$$P(x_i|y)=\\frac{c_{i,y} + 1}{c_i + m}$$\n",
        "\n",
        "where\n",
        "  - $c_{i,y}$ is the number of times term $x_i$ appears in class $y$\n",
        "  - $c_i$ is the total number of times term $x_i$ appears in the collection\n",
        "  - $m$ is the number of classes\n",
        "\n",
        "\n",
        "### Applying the model\n",
        "\n",
        "Return the class $y \\in Y$ that maximizes $P(y) \\prod_{x_i} P(x_i|y)$.\n",
        "\n",
        "Note that we need to consider $x_i$ at each *word position* in the document. Thus, we need to multiply with $P(x_i|y)$ as many times as $x_i$ appears in the document.\n",
        "We can rewrite it as: $$P(y|x) \\propto P(y) \\prod_{i \\in d} P(x_i|y)^{c_{i,d}}$$ where $c_{i,d}$ is the number of times term $i$ appears in document $d$.\n",
        "\n",
        "Finally, we perform the computations in the log domain, that is, $$\\log P(y) +  \\sum_{i=1}^n (c_{i,d} \\log P(x_i|y))$$"
      ]
    },
    {
      "cell_type": "markdown",
      "metadata": {
        "id": "SI6NT2-7oEhT"
      },
      "source": [
        "## 1) Probability estimations\n",
        "\n",
        "The estimation of probabilities $P(x_i|y)$ and $P(y)$ are refactored to a separate class to make them testable."
      ]
    },
    {
      "cell_type": "code",
      "execution_count": null,
      "metadata": {
        "id": "GVAwYHlzoEhT"
      },
      "outputs": [],
      "source": [
        "from numba import jit\n",
        "\n",
        "@jit(nopython=True)\n",
        "def get_prior_prob(y: int, training_labels: List[int]) -> float:\n",
        "    \"\"\"Computes the class prior probability, P(y).\n",
        "\n",
        "    Args:\n",
        "        y: Class ID.\n",
        "        training_labels: Class labels in training data.\n",
        "\n",
        "    Returns:\n",
        "        The probability P(y).\n",
        "    \"\"\"\n",
        "    count: int = 0\n",
        "    for label in training_labels:\n",
        "        if label == y:\n",
        "            count += 1\n",
        "    return count / len(training_labels)\n",
        "\n",
        "@jit(nopython=True)\n",
        "def get_term_prob(count_inclass: int, number_of_terms_in_class: int, size_vocabulary: int) -> float:\n",
        "    \"\"\"Computes the smoothed term probability for a given class, P(x_i|y).\n",
        "\n",
        "    Args:\n",
        "        count_inclass: Number of times the term appears in the given class.\n",
        "        count_total: Number of times the term appears in the collection.\n",
        "        num_classes: Number of classes.\n",
        "\n",
        "    Returns:\n",
        "        The probability P(x_i|y).\n",
        "    \"\"\"\n",
        "    return (count_inclass + 1) / (number_of_terms_in_class + size_vocabulary)"
      ]
    },
    {
      "cell_type": "markdown",
      "metadata": {
        "id": "KVVL9-AYoEhT"
      },
      "source": [
        "### Tests"
      ]
    },
    {
      "cell_type": "code",
      "execution_count": null,
      "metadata": {
        "id": "vISqF2zToEhU"
      },
      "outputs": [],
      "source": [
        "%%run_pytest[clean]\n",
        "\n",
        "def test_prior_prob():\n",
        "    assert get_prior_prob(1, [0, 1, 2, 3]) == 0.25\n",
        "    assert get_prior_prob(1, [1, 1, 2, 3]) == 0.5\n",
        "\n",
        "def test_term_prob():\n",
        "    assert get_term_prob(5, 20, 10) == 0.2\n",
        "    assert get_term_prob(74, 90, 10) == 0.75\n",
        "    assert get_term_prob(0, 6, 10) == 0.0625"
      ]
    },
    {
      "cell_type": "markdown",
      "metadata": {
        "id": "nrMGq5pioEhU"
      },
      "source": [
        "## 2) Naive Bayes classifier\n",
        "\n",
        "Implement training and prediction for a Naive Bayes classifier.  We are operating with dense matrices for simplicity."
      ]
    },
    {
      "cell_type": "code",
      "execution_count": null,
      "metadata": {
        "id": "FYVAXuPFoEhU"
      },
      "outputs": [],
      "source": [
        "import numpy as np\n",
        "import math\n",
        "from numba import jit\n",
        "from typing import List, Dict, Tuple\n",
        "\n",
        "@jit(nopython=True, parallel=True)\n",
        "def func(num_docs: int, num_terms: int, num_classes: int, X_train: List[List[int]], y_train: List[int]) -> Dict[Tuple[int, int], float]:\n",
        "    counts: Dict[Tuple[int, int], int] = dict()\n",
        "    for i_d in range(num_docs):\n",
        "        document = X_train[i_d]\n",
        "        for i in range(num_terms):\n",
        "            if document[i] != 0:\n",
        "                y = y_train[i_d]\n",
        "                if (i, y) in counts:\n",
        "                    counts[(i, y)] += document[i]\n",
        "                else:\n",
        "                    counts[(i, y)] = document[i]\n",
        "    term_prob: Dict[Tuple[int, int], float] = dict()\n",
        "    for document in X_train:\n",
        "        for i in range(num_terms):\n",
        "            for y in range(num_classes):\n",
        "                count_in_class: int = counts.get((i, y), 0)\n",
        "                #count_total = sum(counts.get((i, y), 0) for i in range(num_terms))\n",
        "                count_total: int = 0\n",
        "                for j in range(num_terms):\n",
        "                    count_total += counts.get((j, y), 0)\n",
        "                term_prob[i, y] = get_term_prob(count_in_class, count_total, num_terms)\n",
        "    return term_prob\n",
        "\n",
        "class NBClassifier:\n",
        "\n",
        "    def __init__(self) -> None:\n",
        "        self._num_classes = 0\n",
        "        self._prior_prob = None  # Holds P(y) values\n",
        "        self._term_prob = None  # Holds P(x_i|y) values\n",
        "\n",
        "    def fit(self, X_train: List[List[int]], y_train: List[int]) -> None:\n",
        "        \"\"\"Fits the model.\n",
        "\n",
        "        Args:\n",
        "          X_train: Document-term matrix for training data.\n",
        "              Rows correspond to documents and columns correspond to terms.\n",
        "          y_train: Class labels corresponding to training documents.\n",
        "        \"\"\"\n",
        "        self._num_classes = len(np.unique(y_train))\n",
        "        num_docs = len(X_train)\n",
        "        num_terms = len(X_train[0])\n",
        "        self._term_prob = dict()\n",
        "        self._prior_prob = dict()\n",
        "\n",
        "        # TODO: Calculate P(y) and P(x_i|y) with the help of NBProbabilityEstimator\n",
        "        # and save the resulting values to self._prior_prob and self._term_prob\n",
        "        for y in range(self._num_classes):\n",
        "            self._prior_prob[y] = get_prior_prob(y, y_train)\n",
        "        \n",
        "        self._term_prob = func(num_docs, num_terms, self._num_classes, X_train, y_train)\n",
        "\n",
        "\n",
        "    def _predict_instance(self, x: List[int]) -> int:\n",
        "        \"\"\"Predict class for a single instance (document).\n",
        "\n",
        "        Args:\n",
        "          x: Document term vector.\n",
        "\n",
        "        Returns:\n",
        "          The predicted class label (0-indexed).\n",
        "        \"\"\"\n",
        "        probs = []\n",
        "\n",
        "        for y in range(self._num_classes):\n",
        "            # TODO Calculate log P(y|x).\n",
        "            p = math.log(self._prior_prob[y])\n",
        "            for i in range(len(x)):\n",
        "                if x[i] != 0:\n",
        "                    p += x[i] * math.log(self._term_prob[i, y])\n",
        "            probs.append(p)\n",
        "\n",
        "        # Get the class with the highest probability.\n",
        "        return probs.index(max(probs))\n",
        "\n",
        "\n",
        "    def predict(self, X_test: List[List[int]]) -> List[float]:\n",
        "        \"\"\"Make predictions for a set of documents.\n",
        "\n",
        "        Args:\n",
        "          X_test: Document-term matrix for test data.\n",
        "\n",
        "        Returns:\n",
        "          List with predictions.\n",
        "        \"\"\"\n",
        "        return [self._predict_instance(x) for x in X_test]"
      ]
    },
    {
      "cell_type": "markdown",
      "metadata": {
        "id": "i_Wo2UNmoEhU"
      },
      "source": [
        "## 3) Testing on real data\n",
        "\n",
        "We will be using a subset of the 20Newsgroups collection."
      ]
    },
    {
      "cell_type": "code",
      "execution_count": null,
      "metadata": {
        "id": "GQzEIeC3oEhU"
      },
      "outputs": [],
      "source": [
        "from sklearn.datasets import fetch_20newsgroups\n",
        "\n",
        "categories = [\n",
        "    \"alt.atheism\",\n",
        "    \"soc.religion.christian\",\n",
        "    \"talk.religion.misc\",\n",
        "    \"comp.sys.ibm.pc.hardware\",\n",
        "    \"comp.sys.mac.hardware\"\n",
        "]\n",
        "\n",
        "train = fetch_20newsgroups(subset='train', categories=categories, shuffle=True, random_state=123)\n",
        "test = fetch_20newsgroups(subset='test', categories=categories, shuffle=True, random_state=123)"
      ]
    },
    {
      "cell_type": "markdown",
      "metadata": {
        "id": "Y9Wu7ACDoEhV"
      },
      "source": [
        "### Feature extraction\n",
        "\n",
        "Get term frequencies using `CountVectorizer`. (We ignore terms that appear in less than 10 documents to speed up computation.)"
      ]
    },
    {
      "cell_type": "code",
      "execution_count": null,
      "metadata": {
        "id": "tv4vyFdDoEhV"
      },
      "outputs": [],
      "source": [
        "from sklearn.feature_extraction.text import CountVectorizer\n",
        "\n",
        "count_vect = CountVectorizer(min_df=10)\n",
        "X_train_counts = count_vect.fit_transform(train.data)\n",
        "X_test_counts = count_vect.transform(test.data)"
      ]
    },
    {
      "cell_type": "markdown",
      "metadata": {
        "id": "RBzteSJgoEhV"
      },
      "source": [
        "### Train and apply model\n",
        "\n",
        "Note that we convert sparse matrices to dense ones. This is not efficient and should be avoided when working with large datasets. Nevertheless, this simplifies the implementation for this exercise."
      ]
    },
    {
      "cell_type": "code",
      "execution_count": null,
      "metadata": {
        "id": "cAcpPjvHoEhV"
      },
      "outputs": [],
      "source": [
        "nb = NBClassifier()\n",
        "nb.fit(X_train_counts.toarray(), train.target.tolist())\n",
        "predicted = nb.predict(X_test_counts.toarray())"
      ]
    },
    {
      "cell_type": "markdown",
      "metadata": {
        "id": "XHbNYGN5oEhV"
      },
      "source": [
        "### Evaluation"
      ]
    },
    {
      "cell_type": "code",
      "execution_count": null,
      "metadata": {
        "id": "vBGgvfCdoEhV"
      },
      "outputs": [],
      "source": [
        "from sklearn import metrics\n",
        "\n",
        "print(f\"{metrics.accuracy_score(test.target, np.asarray(predicted)):.3f}\")"
      ]
    },
    {
      "cell_type": "markdown",
      "metadata": {
        "id": "wBorYev7oEhV"
      },
      "source": [
        "## Optional exercises"
      ]
    },
    {
      "cell_type": "markdown",
      "metadata": {
        "id": "Wsn_ddCVoEhV"
      },
      "source": [
        "If you're done, try to implement it without making a conversion to dense matrices.\n",
        "\n",
        "Also, do we really need to precompute and store all term probabilities?"
      ]
    },
    {
      "cell_type": "code",
      "execution_count": null,
      "metadata": {},
      "outputs": [],
      "source": [
        "# Now the same with sklearn's MultinomialNB\n",
        "from sklearn.naive_bayes import MultinomialNB\n",
        "\n",
        "clf = MultinomialNB()\n",
        "clf.fit(X_train_counts, train.target)\n",
        "predicted = clf.predict(X_test_counts)\n",
        "\n",
        "print(f\"{metrics.accuracy_score(test.target, np.asarray(predicted)):.3f}\")"
      ]
    }
  ],
  "metadata": {
    "colab": {
      "provenance": []
    },
    "kernelspec": {
      "display_name": "Python 3",
      "language": "python",
      "name": "python3"
    },
    "language_info": {
      "codemirror_mode": {
        "name": "ipython",
        "version": 3
      },
      "file_extension": ".py",
      "mimetype": "text/x-python",
      "name": "python",
      "nbconvert_exporter": "python",
      "pygments_lexer": "ipython3",
      "version": "3.11.4"
    }
  },
  "nbformat": 4,
  "nbformat_minor": 0
}
