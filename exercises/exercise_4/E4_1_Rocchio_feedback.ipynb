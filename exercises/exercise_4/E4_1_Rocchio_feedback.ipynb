{
  "cells": [
    {
      "cell_type": "markdown",
      "metadata": {
        "id": "1NQ2T8rsr1s8"
      },
      "source": [
        "# Rocchio feedback"
      ]
    },
    {
      "cell_type": "code",
      "execution_count": null,
      "metadata": {
        "id": "Dq5dlcZNr5uC"
      },
      "outputs": [],
      "source": [
        "%pip install ipytest"
      ]
    },
    {
      "cell_type": "code",
      "execution_count": null,
      "metadata": {
        "id": "86TL8ohyr1s-"
      },
      "outputs": [],
      "source": [
        "import ipytest\n",
        "import pytest\n",
        "from typing import List\n",
        "\n",
        "ipytest.autoconfig()"
      ]
    },
    {
      "cell_type": "markdown",
      "metadata": {
        "id": "_y7Ef4K4r1s_"
      },
      "source": [
        "Vocabulary"
      ]
    },
    {
      "cell_type": "code",
      "execution_count": null,
      "metadata": {
        "id": "issGsE5or1s_"
      },
      "outputs": [],
      "source": [
        "VOCAB = ['news', 'about', 'presidental', 'campaign', 'food', 'text']"
      ]
    },
    {
      "cell_type": "markdown",
      "metadata": {
        "id": "dW0aKBgkr1tA"
      },
      "source": [
        "Query vector"
      ]
    },
    {
      "cell_type": "code",
      "execution_count": null,
      "metadata": {
        "id": "qE19u9zmr1tA"
      },
      "outputs": [],
      "source": [
        "Q = [1, 1, 1, 1, 0, 0]"
      ]
    },
    {
      "cell_type": "markdown",
      "metadata": {
        "id": "aNCmuZyar1tA"
      },
      "source": [
        "Document-term matrix (each row corresponds to a document vector)"
      ]
    },
    {
      "cell_type": "code",
      "execution_count": null,
      "metadata": {
        "id": "piUp0u3Hr1tB"
      },
      "outputs": [],
      "source": [
        "DT_MATRIX = [\n",
        "    [1.5, 0.1, 0, 0, 0, 0],\n",
        "    [1.5, 0.1, 0, 2, 2, 0],\n",
        "    [1.5, 0, 3, 2, 0, 0],\n",
        "    [1.5, 0, 4, 2, 0, 0],\n",
        "    [1.5, 0, 0, 6, 2, 0]\n",
        "]"
      ]
    },
    {
      "cell_type": "markdown",
      "metadata": {
        "id": "ZVxyoopqr1tB"
      },
      "source": [
        "Feedback: IDs (indices) of positive and negative documents"
      ]
    },
    {
      "cell_type": "code",
      "execution_count": null,
      "metadata": {
        "id": "vJE99Y3mr1tC"
      },
      "outputs": [],
      "source": [
        "D_POS = [2, 3]\n",
        "D_NEG = [0, 1, 4]"
      ]
    },
    {
      "cell_type": "markdown",
      "metadata": {
        "id": "kaDftQYNr1tC"
      },
      "source": [
        "## Rocchio feedback\n",
        "\n",
        "Compute the updated query according to:\n",
        "$$\\vec{q}_m = \\alpha \\vec{q} + \\frac{\\beta}{|D^+|}\\sum_{d \\in D^+}\\vec{d} - \\frac{\\gamma}{|D^-|}\\sum_{d \\in D^-}\\vec{d}$$\n",
        "\n",
        "where\n",
        "  - $\\vec{q}$ is the original query vector\n",
        "  - $D^+, D^-$ are set of relevant and non-relevant feedback documents\n",
        "  - $\\alpha, \\beta, \\gamma$ are parameters that control the movement of the original vector"
      ]
    },
    {
      "cell_type": "markdown",
      "metadata": {
        "id": "wodr0_dRr1tC"
      },
      "source": [
        "**TODO** Complete the method below. (You may use the global variables `VOCAB` and `DT_MATRIX`.)"
      ]
    },
    {
      "cell_type": "code",
      "execution_count": null,
      "metadata": {
        "id": "xWx8-prWr1tC"
      },
      "outputs": [],
      "source": [
        "def get_updated_query(\n",
        "    q: List[int], d_pos: List[int], d_neg: List[int],\n",
        "    alpha: float, beta: float, gamma: float\n",
        ") -> List[int]:\n",
        "    \"\"\"Computes an updated query model using Rocchio feedback.\n",
        "\n",
        "    Args:\n",
        "        q: Query vector.\n",
        "        d_pos: List of positive feedback document IDs.\n",
        "        d_neg: List of positive feedback document IDs.\n",
        "        alpha: Feedback parameter alpha.\n",
        "        beta: Feedback parameter beta.\n",
        "        gamma: Feedback parameter gamma.\n",
        "\n",
        "    Returns:\n",
        "        Updated query vector.\n",
        "    \"\"\"\n",
        "    q_m = [alpha * q_t for q_t in q]\n",
        "\n",
        "    for t in range(len(q)):\n",
        "        q_m[t] += (beta / len(d_pos)) * sum(DT_MATRIX[d][t] for d in d_pos)\n",
        "        q_m[t] -= (gamma / len(d_neg)) * sum(DT_MATRIX[d][t] for d in d_neg)\n",
        "\n",
        "    return q_m"
      ]
    },
    {
      "cell_type": "markdown",
      "metadata": {
        "id": "0rSic8Bwr1tD"
      },
      "source": [
        "Tests."
      ]
    },
    {
      "cell_type": "code",
      "execution_count": null,
      "metadata": {
        "id": "-h5U1WkYr1tD"
      },
      "outputs": [],
      "source": [
        "%%run_pytest[clean]\n",
        "\n",
        "def test_no_expansion():\n",
        "    q_m = get_updated_query(Q, D_POS, D_NEG, 1, 0, 0)\n",
        "    assert q_m == Q\n",
        "\n",
        "def test_expansion():\n",
        "    q_m = get_updated_query(Q, D_POS, D_NEG, 0.6, 0.2, 0.2)\n",
        "    assert q_m == pytest.approx([0.600, 0.587, 1.300, 0.467, -0.267, 0], rel=1e-2)"
      ]
    }
  ],
  "metadata": {
    "colab": {
      "provenance": []
    },
    "kernelspec": {
      "display_name": "Python 3",
      "language": "python",
      "name": "python3"
    },
    "language_info": {
      "codemirror_mode": {
        "name": "ipython",
        "version": 3
      },
      "file_extension": ".py",
      "mimetype": "text/x-python",
      "name": "python",
      "nbconvert_exporter": "python",
      "pygments_lexer": "ipython3",
      "version": "3.11.4"
    }
  },
  "nbformat": 4,
  "nbformat_minor": 0
}
