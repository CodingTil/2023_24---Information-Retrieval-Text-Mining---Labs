{
  "cells": [
    {
      "cell_type": "markdown",
      "metadata": {
        "id": "JFVUC0Znrz1N"
      },
      "source": [
        "# PageRank calculation"
      ]
    },
    {
      "cell_type": "code",
      "execution_count": null,
      "metadata": {
        "id": "-WMaClbqr4Bh"
      },
      "outputs": [],
      "source": [
        "%pip install ipytest"
      ]
    },
    {
      "cell_type": "code",
      "execution_count": null,
      "metadata": {
        "id": "cfa6OkSurz1P"
      },
      "outputs": [],
      "source": [
        "import ipytest\n",
        "import pytest\n",
        "from typing import Any, Dict, List, Set, Tuple\n",
        "\n",
        "ipytest.autoconfig()"
      ]
    },
    {
      "cell_type": "markdown",
      "metadata": {
        "id": "CYekHeDBrz1Q"
      },
      "source": [
        "You're given a web graph in form of an edge list. Each edge is represented as a `(from_node, to_node)` tuple.\n",
        "(We assume that there is at most one link between any pair of nodes and that the input is correct.)"
      ]
    },
    {
      "cell_type": "markdown",
      "metadata": {
        "id": "hDqTRBLcrz1Q"
      },
      "source": [
        "## Input 1\n",
        "\n",
        "![](https://raw.githubusercontent.com/iai-group/ir-course-2022/main/resources/pagerank1.png)"
      ]
    },
    {
      "cell_type": "code",
      "execution_count": null,
      "metadata": {
        "id": "yRhCAma6rz1Q"
      },
      "outputs": [],
      "source": [
        "WEB_GRAPH_1 = [(\"A\", \"B\"), (\"A\", \"C\"), (\"B\", \"C\"), (\"C\", \"A\")]"
      ]
    },
    {
      "cell_type": "markdown",
      "metadata": {
        "id": "W0QSUcs7rz1Q"
      },
      "source": [
        "## Input 2\n",
        "\n",
        "![](https://raw.githubusercontent.com/iai-group/ir-course-2022/main/resources/pagerank2.png)\n",
        "\n",
        "Mind that this web graph contains rank sinks, i.e., nodes that have only incoming edges but no outgoing ones. You'll need to deal with those by adding an incoming link from all nodes (including the very node itself)."
      ]
    },
    {
      "cell_type": "code",
      "execution_count": null,
      "metadata": {
        "id": "9VHYZHMgrz1R"
      },
      "outputs": [],
      "source": [
        "WEB_GRAPH_2 = [(1, 2), (1, 3), (3, 1), (3, 2), (3, 5), (4, 5), (4, 6), (5, 4), (5, 6), (6, 4)]"
      ]
    },
    {
      "cell_type": "markdown",
      "metadata": {
        "id": "fe4ENeHVrz1R"
      },
      "source": [
        "## Utilities"
      ]
    },
    {
      "cell_type": "code",
      "execution_count": null,
      "metadata": {
        "id": "-cMxClmrrz1S"
      },
      "outputs": [],
      "source": [
        "def get_all_nodes(web_graph: List[Tuple[Any, Any]]) -> Set[Any]:\n",
        "    \"\"\"Returns a list of nodes given a web graph.\n",
        "\n",
        "    Params:\n",
        "        web_graph: List of edges.\n",
        "\n",
        "    Returns:\n",
        "        Set of nodes.\n",
        "    \"\"\"\n",
        "    nodes = set()\n",
        "    for (from_node, to_node) in web_graph:\n",
        "        nodes.add(from_node)\n",
        "        nodes.add(to_node)\n",
        "\n",
        "    return nodes"
      ]
    },
    {
      "cell_type": "markdown",
      "metadata": {
        "id": "jn1KeELBrz1S"
      },
      "source": [
        "**TODO** Complete this method."
      ]
    },
    {
      "cell_type": "code",
      "execution_count": null,
      "metadata": {
        "id": "Yp4LNAC4rz1S"
      },
      "outputs": [],
      "source": [
        "def get_outlinks_num(web_graph: List[Tuple[Any, Any]]) -> Dict[Any, int]:\n",
        "    \"\"\"Computes the number of outgoing links for each node in a web graph.\n",
        "\n",
        "    Param:\n",
        "        web_graph: List of edges.\n",
        "\n",
        "    Returns:\n",
        "        Dict with nodes as keys and the number of outgoing nodes as values.\n",
        "    \"\"\"\n",
        "    outlinks = {node: 0 for node in get_all_nodes(web_graph)}\n",
        "    # TODO: calculate outlinks count for each node\n",
        "    for (from_node, _) in web_graph:\n",
        "        outlinks[from_node] += 1\n",
        "    return outlinks"
      ]
    },
    {
      "cell_type": "markdown",
      "metadata": {
        "id": "PHH9djaHrz1T"
      },
      "source": [
        "## PageRank calculation\n",
        "\n",
        "The pagerank of a given node $a$ is computed using:\n",
        "\n",
        "$$PR(a) = \\frac{q}{T} + (1-q) \\sum_{i=1}^n \\frac{PR(p_i)}{L(p_i)}$$\n",
        "\n",
        "where\n",
        "  - $q$ is the probability of jumping to a random page\n",
        "  - $T$ is the total number of pages (nodes) in the Web graph\n",
        "  - $p_1\\dots p_n$ are pages that **point to** page $a$\n",
        "  - $PR(p_i)$ is the PageRank value of page $p_i$\n",
        "  - $L(p_i)$ is the number of outgoing links of page $p_i$"
      ]
    },
    {
      "cell_type": "markdown",
      "metadata": {
        "id": "TfsO2fr8rz1T"
      },
      "source": [
        "**TODO** Complete this method."
      ]
    },
    {
      "cell_type": "code",
      "execution_count": null,
      "metadata": {
        "id": "vDyFGnVArz1T"
      },
      "outputs": [],
      "source": [
        "def pagerank(web_graph: List[Tuple[Any, Any]], q: float = 0.15, iterations: int = 3) -> Dict[Any, float]:\n",
        "    \"\"\"Computes PageRank for all nodes in a web graph.\n",
        "\n",
        "    Params:\n",
        "        web_graph: List of edges.\n",
        "        q: Random jump probability.\n",
        "        iterations: Number of iterations.\n",
        "\n",
        "    Returns:\n",
        "        Dict with node names as keys and PageRank scores as values.\n",
        "    \"\"\"\n",
        "    nodes = get_all_nodes(web_graph)\n",
        "    # Calculate the number of outgoing links of each page.\n",
        "    outlinks_num = get_outlinks_num(web_graph)\n",
        "    # Collect all inlinks of a page for more efficient PageRank computation.\n",
        "    inlinks = {node: [] for node in nodes}\n",
        "    for (from_node, to_node) in web_graph:\n",
        "        inlinks[to_node].append(from_node)\n",
        "\n",
        "    # TODO: Identify and deal with rank sinks.\n",
        "    for node in nodes:\n",
        "        if outlinks_num[node] == 0:\n",
        "            print(f\"Node {node} is a rank sink\")\n",
        "            for to_node in nodes:\n",
        "                inlinks[to_node].append(node)\n",
        "            web_graph.extend([(node, to_node) for to_node in nodes])\n",
        "            outlinks_num[node] = len(nodes)\n",
        "\n",
        "    # TODO: Initialize pagerank values.\n",
        "    pr = {node: 1 / len(nodes) for node in nodes}\n",
        "\n",
        "    # Calculate pagerank scores iteratively.\n",
        "    for _ in range(iterations):\n",
        "        # TODO: Update pr values.\n",
        "        old_pr = pr.copy()\n",
        "        for node in nodes:\n",
        "            pr[node] = q / len(nodes) + (1 - q) * sum(old_pr[inlink] / outlinks_num[inlink] for inlink in inlinks[node])\n",
        "        print(pr)\n",
        "\n",
        "    \n",
        "    pr = {node: 1/len(nodes) for node in nodes}\n",
        "    \n",
        "    # Calculate pagerank scores iteratively.\n",
        "    for i in range(iterations):\n",
        "        pr_old = pr.copy()\n",
        "        for node in pr.keys():\n",
        "            pr[node] = q / len(nodes)\n",
        "            # Iterating over all pages p_i that link to node. \n",
        "            for from_node in inlinks[node]:\n",
        "                pr[node] += (1 - q) * pr_old[from_node] / outlinks_num[from_node]\n",
        "        print(pr)\n",
        "\n",
        "    return pr"
      ]
    },
    {
      "cell_type": "markdown",
      "metadata": {
        "id": "tqNgGUaTrz1U"
      },
      "source": [
        "Tests."
      ]
    },
    {
      "cell_type": "code",
      "execution_count": null,
      "metadata": {
        "id": "fcViYFMfrz1U"
      },
      "outputs": [],
      "source": [
        "%%run_pytest[clean]\n",
        "\n",
        "@pytest.mark.parametrize(\"web_graph,q,iterations,correct_values\", [\n",
        "    (WEB_GRAPH_1, 0.5, 0, {\"A\": 1/3, \"B\": 1/3, \"C\": 1/3}),\n",
        "    (WEB_GRAPH_1, 0.5, 1, {\"A\": 0.3333, \"B\": 0.25, \"C\": 0.4166}),\n",
        "    (WEB_GRAPH_1, 0.5, 2, {\"A\": 0.375, \"B\": 0.25, \"C\": 0.375}),\n",
        "    (WEB_GRAPH_1, 0.5, 3, {\"A\": 0.3541, \"B\": 0.2604, \"C\": 0.3854}),\n",
        "    (WEB_GRAPH_2, 0.15, 0, {1: 1/6, 2: 1/6, 3: 1/6, 4: 1/6, 5: 1/6, 6: 1/6}),\n",
        "    (WEB_GRAPH_2, 0.15, 1, {1: 0.0958, 2: 0.1666, 3: 0.1194, 4: 0.2611, 5: 0.1666, 6: 0.1902}),\n",
        "    (WEB_GRAPH_2, 0.15, 2, {1: 0.0824, 2: 0.1231, 3: 0.0893, 4: 0.2811, 5: 0.1934, 6: 0.2304}),\n",
        "])\n",
        "def test_pagerank(web_graph, q, iterations, correct_values):\n",
        "    assert pagerank(web_graph, q=q, iterations=iterations) == pytest.approx(correct_values, rel=1e-3)"
      ]
    }
  ],
  "metadata": {
    "colab": {
      "provenance": []
    },
    "kernelspec": {
      "display_name": "Python 3",
      "language": "python",
      "name": "python3"
    },
    "language_info": {
      "codemirror_mode": {
        "name": "ipython",
        "version": 3
      },
      "file_extension": ".py",
      "mimetype": "text/x-python",
      "name": "python",
      "nbconvert_exporter": "python",
      "pygments_lexer": "ipython3",
      "version": "3.11.4"
    }
  },
  "nbformat": 4,
  "nbformat_minor": 0
}
